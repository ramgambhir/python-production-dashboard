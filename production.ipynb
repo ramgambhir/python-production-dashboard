NoofDays = float(input('NoofDays '))
Leaves = float(input('Leaves '))
Clinical = float(input('Clinical '))
Admin = float(input('Admin '))
HOV = float(input('HOV '))
TotalHrs = Clinical/1.75 + Admin/1 + HOV/4.5
print('total hrs' ,TotalHrs )
Target = NoofDays-Leaves
Target*= 8.5
print('Target' ,Target )
Deficit = Target-TotalHrs
print('Deficit' ,Deficit )
production = TotalHrs/Target
production *= 100
print (production)
